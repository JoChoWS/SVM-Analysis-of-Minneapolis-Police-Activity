{
 "cells": [
  {
   "cell_type": "markdown",
   "metadata": {},
   "source": [
    "## Support Vector Machine Analysis of Minneapolis Police Activity\n",
    "\n",
    "Can demographic factors such as gender or race influence how likely it is for a person to receive a citation with contacted by police? Does the location of the stop impact how a person is treated by officers? Many studies and personal anecdotes say that these factors do indeed play a role. The city of Minneapolis, MN has published data regarding their own police activity that offers the opportunity to further study police interaction with the public.\n",
    "\n",
    "This report will use the data to create a binary classification Support Vector Machine (SVM) that will attempt to use demographic information to predict whether a person will receive a citation when contacted by police.\n"
   ]
  },
  {
   "cell_type": "markdown",
   "metadata": {},
   "source": [
    "### Import the basic data and visualization packages"
   ]
  },
  {
   "cell_type": "code",
   "execution_count": 2,
   "metadata": {},
   "outputs": [],
   "source": [
    "import numpy as np\n",
    "import pandas as pd\n",
    "\n",
    "import seaborn as sns\n",
    "import matplotlib.pyplot as plt\n",
    "%matplotlib inline"
   ]
  },
  {
   "cell_type": "markdown",
   "metadata": {},
   "source": [
    "### Read in the Data and Prepare it for Modeling"
   ]
  },
  {
   "cell_type": "code",
   "execution_count": 3,
   "metadata": {},
   "outputs": [],
   "source": [
    "# dataset is available at http://opendata.minneapolismn.gov/datasets/police-stop-data\n",
    "stops = pd.read_csv(\"MplsStops.csv\")\n",
    "\n",
    "# the original dataset includes NA values in the 'citationIssued' column\n",
    "# these entres are counter-productive to our citation prediction efforts and are removed\n",
    "stops = stops.dropna()"
   ]
  },
  {
   "cell_type": "code",
   "execution_count": 4,
   "metadata": {},
   "outputs": [
    {
     "data": {
      "text/html": [
       "<div>\n",
       "<style scoped>\n",
       "    .dataframe tbody tr th:only-of-type {\n",
       "        vertical-align: middle;\n",
       "    }\n",
       "\n",
       "    .dataframe tbody tr th {\n",
       "        vertical-align: top;\n",
       "    }\n",
       "\n",
       "    .dataframe thead th {\n",
       "        text-align: right;\n",
       "    }\n",
       "</style>\n",
       "<table border=\"1\" class=\"dataframe\">\n",
       "  <thead>\n",
       "    <tr style=\"text-align: right;\">\n",
       "      <th></th>\n",
       "      <th>Unnamed: 0</th>\n",
       "      <th>idNum</th>\n",
       "      <th>date</th>\n",
       "      <th>problem</th>\n",
       "      <th>MDC</th>\n",
       "      <th>citationIssued</th>\n",
       "      <th>personSearch</th>\n",
       "      <th>vehicleSearch</th>\n",
       "      <th>preRace</th>\n",
       "      <th>race</th>\n",
       "      <th>gender</th>\n",
       "      <th>lat</th>\n",
       "      <th>long</th>\n",
       "      <th>policePrecinct</th>\n",
       "      <th>neighborhood</th>\n",
       "    </tr>\n",
       "  </thead>\n",
       "  <tbody>\n",
       "    <tr>\n",
       "      <th>28572</th>\n",
       "      <td>36569</td>\n",
       "      <td>17-251489</td>\n",
       "      <td>2017-07-06 11:00:32</td>\n",
       "      <td>suspicious</td>\n",
       "      <td>MDC</td>\n",
       "      <td>NO</td>\n",
       "      <td>NO</td>\n",
       "      <td>NO</td>\n",
       "      <td>Unknown</td>\n",
       "      <td>Unknown</td>\n",
       "      <td>Unknown</td>\n",
       "      <td>44.97128</td>\n",
       "      <td>-93.285779</td>\n",
       "      <td>1</td>\n",
       "      <td>Loring Park</td>\n",
       "    </tr>\n",
       "    <tr>\n",
       "      <th>28576</th>\n",
       "      <td>36573</td>\n",
       "      <td>17-251517</td>\n",
       "      <td>2017-07-06 11:19:35</td>\n",
       "      <td>traffic</td>\n",
       "      <td>MDC</td>\n",
       "      <td>NO</td>\n",
       "      <td>NO</td>\n",
       "      <td>NO</td>\n",
       "      <td>Unknown</td>\n",
       "      <td>Black</td>\n",
       "      <td>Female</td>\n",
       "      <td>44.98826</td>\n",
       "      <td>-93.289389</td>\n",
       "      <td>4</td>\n",
       "      <td>Near - North</td>\n",
       "    </tr>\n",
       "  </tbody>\n",
       "</table>\n",
       "</div>"
      ],
      "text/plain": [
       "       Unnamed: 0      idNum                 date     problem  MDC  \\\n",
       "28572       36569  17-251489  2017-07-06 11:00:32  suspicious  MDC   \n",
       "28576       36573  17-251517  2017-07-06 11:19:35     traffic  MDC   \n",
       "\n",
       "      citationIssued personSearch vehicleSearch  preRace     race   gender  \\\n",
       "28572             NO           NO            NO  Unknown  Unknown  Unknown   \n",
       "28576             NO           NO            NO  Unknown    Black   Female   \n",
       "\n",
       "            lat       long  policePrecinct  neighborhood  \n",
       "28572  44.97128 -93.285779               1   Loring Park  \n",
       "28576  44.98826 -93.289389               4  Near - North  "
      ]
     },
     "execution_count": 4,
     "metadata": {},
     "output_type": "execute_result"
    }
   ],
   "source": [
    "# a look at the complete dataset (NAs removed)\n",
    "stops.head(2)"
   ]
  },
  {
   "cell_type": "markdown",
   "metadata": {},
   "source": [
    "A graphical look at the data can help decide which variables to use in the model. Two of the plots used during our decision making process are shown below:"
   ]
  },
  {
   "cell_type": "code",
   "execution_count": 5,
   "metadata": {},
   "outputs": [
    {
     "data": {
      "text/plain": [
       "Text(0.5,1,'Race of Persons Contacted')"
      ]
     },
     "execution_count": 5,
     "metadata": {},
     "output_type": "execute_result"
    },
    {
     "data": {
      "image/png": "[encoded data removed]",
      "text/plain": [
       "<Figure size 792x360 with 1 Axes>"
      ]
     },
     "metadata": {},
     "output_type": "display_data"
    }
   ],
   "source": [
    "plt.figure(figsize=(11,5))\n",
    "sns.countplot(x='race', data=stops, hue='citationIssued').set_title('Race of Persons Contacted')"
   ]
  },
  {
   "cell_type": "code",
   "execution_count": 6,
   "metadata": {},
   "outputs": [
    {
     "data": {
      "text/plain": [
       "Text(0.5,1,'Gender of Persons Contacted')"
      ]
     },
     "execution_count": 6,
     "metadata": {},
     "output_type": "execute_result"
    },
    {
     "data": {
      "image/png": "[encoded data removed]",
      "text/plain": [
       "<Figure size 792x360 with 1 Axes>"
      ]
     },
     "metadata": {},
     "output_type": "display_data"
    }
   ],
   "source": [
    "plt.figure(figsize=(11,5))\n",
    "sns.countplot(x='gender', data=stops, hue='citationIssued').set_title('Gender of Persons Contacted')"
   ]
  },
  {
   "cell_type": "markdown",
   "metadata": {},
   "source": [
    "Given the wider citation / no citation gap for people whose race or gender is \"unknown,\" those \"unknown\" race/gender persons will be dropped so they do not unfairly prejudice the resulting model."
   ]
  },
  {
   "cell_type": "code",
   "execution_count": 7,
   "metadata": {},
   "outputs": [],
   "source": [
    "stops = stops[stops['race'] != 'Unknown']"
   ]
  },
  {
   "cell_type": "code",
   "execution_count": 8,
   "metadata": {},
   "outputs": [],
   "source": [
    "stops = stops[stops['gender'] != 'Unknown']"
   ]
  },
  {
   "cell_type": "code",
   "execution_count": 9,
   "metadata": {},
   "outputs": [
    {
     "data": {
      "text/html": [
       "<div>\n",
       "<style scoped>\n",
       "    .dataframe tbody tr th:only-of-type {\n",
       "        vertical-align: middle;\n",
       "    }\n",
       "\n",
       "    .dataframe tbody tr th {\n",
       "        vertical-align: top;\n",
       "    }\n",
       "\n",
       "    .dataframe thead th {\n",
       "        text-align: right;\n",
       "    }\n",
       "</style>\n",
       "<table border=\"1\" class=\"dataframe\">\n",
       "  <thead>\n",
       "    <tr style=\"text-align: right;\">\n",
       "      <th></th>\n",
       "      <th>date</th>\n",
       "      <th>problem</th>\n",
       "      <th>race</th>\n",
       "      <th>gender</th>\n",
       "      <th>neighborhood</th>\n",
       "      <th>citationIssued</th>\n",
       "    </tr>\n",
       "  </thead>\n",
       "  <tbody>\n",
       "    <tr>\n",
       "      <th>28576</th>\n",
       "      <td>2017-07-06 11:19:35</td>\n",
       "      <td>traffic</td>\n",
       "      <td>Black</td>\n",
       "      <td>Female</td>\n",
       "      <td>Near - North</td>\n",
       "      <td>NO</td>\n",
       "    </tr>\n",
       "    <tr>\n",
       "      <th>28588</th>\n",
       "      <td>2017-07-06 12:11:32</td>\n",
       "      <td>suspicious</td>\n",
       "      <td>White</td>\n",
       "      <td>Male</td>\n",
       "      <td>Lyndale</td>\n",
       "      <td>NO</td>\n",
       "    </tr>\n",
       "  </tbody>\n",
       "</table>\n",
       "</div>"
      ],
      "text/plain": [
       "                      date     problem   race  gender  neighborhood  \\\n",
       "28576  2017-07-06 11:19:35     traffic  Black  Female  Near - North   \n",
       "28588  2017-07-06 12:11:32  suspicious  White    Male       Lyndale   \n",
       "\n",
       "      citationIssued  \n",
       "28576             NO  \n",
       "28588             NO  "
      ]
     },
     "execution_count": 9,
     "metadata": {},
     "output_type": "execute_result"
    }
   ],
   "source": [
    "# our prediction will focus on the date/time/location of the stop, nature of the stop, and race of contacted person\n",
    "# all other columns are removed for ease of visualization\n",
    "stops = stops[['date', 'problem', 'race', 'gender', 'neighborhood', 'citationIssued']]\n",
    "stops.head(2)"
   ]
  },
  {
   "cell_type": "code",
   "execution_count": 10,
   "metadata": {},
   "outputs": [
    {
     "data": {
      "text/html": [
       "<div>\n",
       "<style scoped>\n",
       "    .dataframe tbody tr th:only-of-type {\n",
       "        vertical-align: middle;\n",
       "    }\n",
       "\n",
       "    .dataframe tbody tr th {\n",
       "        vertical-align: top;\n",
       "    }\n",
       "\n",
       "    .dataframe thead th {\n",
       "        text-align: right;\n",
       "    }\n",
       "</style>\n",
       "<table border=\"1\" class=\"dataframe\">\n",
       "  <thead>\n",
       "    <tr style=\"text-align: right;\">\n",
       "      <th></th>\n",
       "      <th>date</th>\n",
       "      <th>problem</th>\n",
       "      <th>race</th>\n",
       "      <th>gender</th>\n",
       "      <th>neighborhood</th>\n",
       "      <th>citationIssued</th>\n",
       "      <th>day</th>\n",
       "      <th>time</th>\n",
       "    </tr>\n",
       "  </thead>\n",
       "  <tbody>\n",
       "    <tr>\n",
       "      <th>28576</th>\n",
       "      <td>2017-07-06 11:19:35</td>\n",
       "      <td>traffic</td>\n",
       "      <td>Black</td>\n",
       "      <td>Female</td>\n",
       "      <td>Near - North</td>\n",
       "      <td>NO</td>\n",
       "      <td>2017-07-06</td>\n",
       "      <td>11:19:35</td>\n",
       "    </tr>\n",
       "    <tr>\n",
       "      <th>28588</th>\n",
       "      <td>2017-07-06 12:11:32</td>\n",
       "      <td>suspicious</td>\n",
       "      <td>White</td>\n",
       "      <td>Male</td>\n",
       "      <td>Lyndale</td>\n",
       "      <td>NO</td>\n",
       "      <td>2017-07-06</td>\n",
       "      <td>12:11:32</td>\n",
       "    </tr>\n",
       "  </tbody>\n",
       "</table>\n",
       "</div>"
      ],
      "text/plain": [
       "                      date     problem   race  gender  neighborhood  \\\n",
       "28576  2017-07-06 11:19:35     traffic  Black  Female  Near - North   \n",
       "28588  2017-07-06 12:11:32  suspicious  White    Male       Lyndale   \n",
       "\n",
       "      citationIssued         day      time  \n",
       "28576             NO  2017-07-06  11:19:35  \n",
       "28588             NO  2017-07-06  12:11:32  "
      ]
     },
     "execution_count": 10,
     "metadata": {},
     "output_type": "execute_result"
    }
   ],
   "source": [
    "# date and time are combined by the data into one string\n",
    "#the string is split here and day and time put into individual columns\n",
    "stops['day'], stops['time'] = stops['date'].str.split(' ', 1).str\n",
    "stops.head(2)"
   ]
  },
  {
   "cell_type": "code",
   "execution_count": 11,
   "metadata": {},
   "outputs": [
    {
     "data": {
      "text/html": [
       "<div>\n",
       "<style scoped>\n",
       "    .dataframe tbody tr th:only-of-type {\n",
       "        vertical-align: middle;\n",
       "    }\n",
       "\n",
       "    .dataframe tbody tr th {\n",
       "        vertical-align: top;\n",
       "    }\n",
       "\n",
       "    .dataframe thead th {\n",
       "        text-align: right;\n",
       "    }\n",
       "</style>\n",
       "<table border=\"1\" class=\"dataframe\">\n",
       "  <thead>\n",
       "    <tr style=\"text-align: right;\">\n",
       "      <th></th>\n",
       "      <th>date</th>\n",
       "      <th>problem</th>\n",
       "      <th>race</th>\n",
       "      <th>gender</th>\n",
       "      <th>neighborhood</th>\n",
       "      <th>citationIssued</th>\n",
       "      <th>day</th>\n",
       "      <th>time</th>\n",
       "    </tr>\n",
       "  </thead>\n",
       "  <tbody>\n",
       "    <tr>\n",
       "      <th>28576</th>\n",
       "      <td>2017-07-06 11:19:35</td>\n",
       "      <td>traffic</td>\n",
       "      <td>Black</td>\n",
       "      <td>Female</td>\n",
       "      <td>Near - North</td>\n",
       "      <td>NO</td>\n",
       "      <td>20170706</td>\n",
       "      <td>111935</td>\n",
       "    </tr>\n",
       "    <tr>\n",
       "      <th>28588</th>\n",
       "      <td>2017-07-06 12:11:32</td>\n",
       "      <td>suspicious</td>\n",
       "      <td>White</td>\n",
       "      <td>Male</td>\n",
       "      <td>Lyndale</td>\n",
       "      <td>NO</td>\n",
       "      <td>20170706</td>\n",
       "      <td>121132</td>\n",
       "    </tr>\n",
       "  </tbody>\n",
       "</table>\n",
       "</div>"
      ],
      "text/plain": [
       "                      date     problem   race  gender  neighborhood  \\\n",
       "28576  2017-07-06 11:19:35     traffic  Black  Female  Near - North   \n",
       "28588  2017-07-06 12:11:32  suspicious  White    Male       Lyndale   \n",
       "\n",
       "      citationIssued       day    time  \n",
       "28576             NO  20170706  111935  \n",
       "28588             NO  20170706  121132  "
      ]
     },
     "execution_count": 11,
     "metadata": {},
     "output_type": "execute_result"
    }
   ],
   "source": [
    "# the days and times are then converted into numeric values; the SVM can't use strings to build the model\n",
    "stops['day'] = stops['day'].apply(lambda char: char.replace(\"-\", \"\"))\n",
    "pd.to_numeric(stops['day'])\n",
    "\n",
    "stops['time'] = stops['time'].apply(lambda char: char.replace(\":\", \"\"))\n",
    "pd.to_numeric(stops['time'])\n",
    "\n",
    "stops.head(2)"
   ]
  },
  {
   "cell_type": "markdown",
   "metadata": {},
   "source": [
    "The remanining categorical data must also be converted tonumerical format in order to train a sklearn SVM. This is easily done using the pandas built-in 'factorize'."
   ]
  },
  {
   "cell_type": "code",
   "execution_count": 12,
   "metadata": {},
   "outputs": [
    {
     "data": {
      "text/html": [
       "<div>\n",
       "<style scoped>\n",
       "    .dataframe tbody tr th:only-of-type {\n",
       "        vertical-align: middle;\n",
       "    }\n",
       "\n",
       "    .dataframe tbody tr th {\n",
       "        vertical-align: top;\n",
       "    }\n",
       "\n",
       "    .dataframe thead th {\n",
       "        text-align: right;\n",
       "    }\n",
       "</style>\n",
       "<table border=\"1\" class=\"dataframe\">\n",
       "  <thead>\n",
       "    <tr style=\"text-align: right;\">\n",
       "      <th></th>\n",
       "      <th>date</th>\n",
       "      <th>problem</th>\n",
       "      <th>race</th>\n",
       "      <th>gender</th>\n",
       "      <th>neighborhood</th>\n",
       "      <th>citationIssued</th>\n",
       "      <th>day</th>\n",
       "      <th>time</th>\n",
       "    </tr>\n",
       "  </thead>\n",
       "  <tbody>\n",
       "    <tr>\n",
       "      <th>28576</th>\n",
       "      <td>2017-07-06 11:19:35</td>\n",
       "      <td>0</td>\n",
       "      <td>0</td>\n",
       "      <td>0</td>\n",
       "      <td>0</td>\n",
       "      <td>0</td>\n",
       "      <td>20170706</td>\n",
       "      <td>111935</td>\n",
       "    </tr>\n",
       "    <tr>\n",
       "      <th>28588</th>\n",
       "      <td>2017-07-06 12:11:32</td>\n",
       "      <td>1</td>\n",
       "      <td>1</td>\n",
       "      <td>1</td>\n",
       "      <td>1</td>\n",
       "      <td>0</td>\n",
       "      <td>20170706</td>\n",
       "      <td>121132</td>\n",
       "    </tr>\n",
       "  </tbody>\n",
       "</table>\n",
       "</div>"
      ],
      "text/plain": [
       "                      date  problem  race  gender  neighborhood  \\\n",
       "28576  2017-07-06 11:19:35        0     0       0             0   \n",
       "28588  2017-07-06 12:11:32        1     1       1             1   \n",
       "\n",
       "       citationIssued       day    time  \n",
       "28576               0  20170706  111935  \n",
       "28588               0  20170706  121132  "
      ]
     },
     "execution_count": 12,
     "metadata": {},
     "output_type": "execute_result"
    }
   ],
   "source": [
    "# assigning an integer value to each piece of data according to its category\n",
    "stops.problem, mapping_index = pd.Series(stops.problem).factorize()\n",
    "stops.race, mapping_index = pd.Series(stops.race).factorize()\n",
    "stops.gender, mapping_index = pd.Series(stops.gender).factorize()\n",
    "stops.neighborhood, mapping_index = pd.Series(stops.neighborhood).factorize()\n",
    "stops.citationIssued, mapping_index = pd.Series(stops.citationIssued).factorize()\n",
    "\n",
    "stops.head(2)"
   ]
  },
  {
   "cell_type": "code",
   "execution_count": 13,
   "metadata": {},
   "outputs": [
    {
     "data": {
      "text/html": [
       "<div>\n",
       "<style scoped>\n",
       "    .dataframe tbody tr th:only-of-type {\n",
       "        vertical-align: middle;\n",
       "    }\n",
       "\n",
       "    .dataframe tbody tr th {\n",
       "        vertical-align: top;\n",
       "    }\n",
       "\n",
       "    .dataframe thead th {\n",
       "        text-align: right;\n",
       "    }\n",
       "</style>\n",
       "<table border=\"1\" class=\"dataframe\">\n",
       "  <thead>\n",
       "    <tr style=\"text-align: right;\">\n",
       "      <th></th>\n",
       "      <th>day</th>\n",
       "      <th>time</th>\n",
       "      <th>problem</th>\n",
       "      <th>race</th>\n",
       "      <th>gender</th>\n",
       "      <th>neighborhood</th>\n",
       "      <th>citationIssued</th>\n",
       "    </tr>\n",
       "  </thead>\n",
       "  <tbody>\n",
       "    <tr>\n",
       "      <th>28576</th>\n",
       "      <td>20170706</td>\n",
       "      <td>111935</td>\n",
       "      <td>0</td>\n",
       "      <td>0</td>\n",
       "      <td>0</td>\n",
       "      <td>0</td>\n",
       "      <td>0</td>\n",
       "    </tr>\n",
       "    <tr>\n",
       "      <th>28588</th>\n",
       "      <td>20170706</td>\n",
       "      <td>121132</td>\n",
       "      <td>1</td>\n",
       "      <td>1</td>\n",
       "      <td>1</td>\n",
       "      <td>1</td>\n",
       "      <td>0</td>\n",
       "    </tr>\n",
       "  </tbody>\n",
       "</table>\n",
       "</div>"
      ],
      "text/plain": [
       "            day    time  problem  race  gender  neighborhood  citationIssued\n",
       "28576  20170706  111935        0     0       0             0               0\n",
       "28588  20170706  121132        1     1       1             1               0"
      ]
     },
     "execution_count": 13,
     "metadata": {},
     "output_type": "execute_result"
    }
   ],
   "source": [
    "# rearranging the df columns to make the model building a litter easier\n",
    "stops = stops[['day', 'time', 'problem', 'race', 'gender', 'neighborhood', 'citationIssued']]\n",
    "stops.head(2)"
   ]
  },
  {
   "cell_type": "markdown",
   "metadata": {},
   "source": [
    "## Train Test Split\n",
    "\n",
    "The data ready for modeling so it is split into a training set and a testing set."
   ]
  },
  {
   "cell_type": "code",
   "execution_count": 14,
   "metadata": {},
   "outputs": [],
   "source": [
    "from sklearn.model_selection import train_test_split"
   ]
  },
  {
   "cell_type": "code",
   "execution_count": 15,
   "metadata": {},
   "outputs": [],
   "source": [
    "X = stops.drop('citationIssued',axis=1)\n",
    "y = stops['citationIssued']\n",
    "X_train, X_test, y_train, y_test = train_test_split(X, y, test_size=0.30)"
   ]
  },
  {
   "cell_type": "markdown",
   "metadata": {},
   "source": [
    "## Train the Model\n",
    "\n",
    "Using the SVC() model from sklearn, the model is fit to the training data."
   ]
  },
  {
   "cell_type": "code",
   "execution_count": 16,
   "metadata": {},
   "outputs": [],
   "source": [
    "from sklearn.svm import SVC"
   ]
  },
  {
   "cell_type": "code",
   "execution_count": 17,
   "metadata": {},
   "outputs": [],
   "source": [
    "stops_model = SVC()"
   ]
  },
  {
   "cell_type": "code",
   "execution_count": 18,
   "metadata": {},
   "outputs": [
    {
     "data": {
      "text/plain": [
       "SVC(C=1.0, cache_size=200, class_weight=None, coef0=0.0,\n",
       "  decision_function_shape='ovr', degree=3, gamma='auto', kernel='rbf',\n",
       "  max_iter=-1, probability=False, random_state=None, shrinking=True,\n",
       "  tol=0.001, verbose=False)"
      ]
     },
     "execution_count": 18,
     "metadata": {},
     "output_type": "execute_result"
    }
   ],
   "source": [
    "stops_model.fit(X_train,y_train)"
   ]
  },
  {
   "cell_type": "markdown",
   "metadata": {},
   "source": [
    "## Evaluate the Model\n",
    "The above model is used to make predictions and create a confusion matrix and classification report."
   ]
  },
  {
   "cell_type": "code",
   "execution_count": 19,
   "metadata": {},
   "outputs": [],
   "source": [
    "predictions = stops_model.predict(X_test)"
   ]
  },
  {
   "cell_type": "code",
   "execution_count": 20,
   "metadata": {},
   "outputs": [],
   "source": [
    "from sklearn.metrics import classification_report,confusion_matrix"
   ]
  },
  {
   "cell_type": "code",
   "execution_count": 21,
   "metadata": {},
   "outputs": [
    {
     "name": "stdout",
     "output_type": "stream",
     "text": [
      "[[3389    0]\n",
      " [ 904    0]]\n"
     ]
    }
   ],
   "source": [
    "print(confusion_matrix(y_test,predictions))"
   ]
  },
  {
   "cell_type": "code",
   "execution_count": 22,
   "metadata": {},
   "outputs": [
    {
     "name": "stdout",
     "output_type": "stream",
     "text": [
      "             precision    recall  f1-score   support\n",
      "\n",
      "          0       0.79      1.00      0.88      3389\n",
      "          1       0.00      0.00      0.00       904\n",
      "\n",
      "avg / total       0.62      0.79      0.70      4293\n",
      "\n"
     ]
    },
    {
     "name": "stderr",
     "output_type": "stream",
     "text": [
      "C:\\Users\\JoCho\\Anaconda3\\lib\\site-packages\\sklearn\\metrics\\classification.py:1135: UndefinedMetricWarning: Precision and F-score are ill-defined and being set to 0.0 in labels with no predicted samples.\n",
      "  'precision', 'predicted', average, warn_for)\n"
     ]
    }
   ],
   "source": [
    "print(classification_report(y_test,predictions))"
   ]
  },
  {
   "cell_type": "markdown",
   "metadata": {},
   "source": [
    "The dataset is weighted heavily in favor of instances where a citation was not issued. We see from the above table that this initial model took the easy way out and predicted that *none* of the people contacted would receive tickets. Although that simplistic approach got a correct result 84% of the time, it's not very enlightening."
   ]
  },
  {
   "cell_type": "markdown",
   "metadata": {},
   "source": [
    "## Using Gridsearch to Improve Model Performance\n",
    "The GridSearch function provides one way to test a variety of potential parameters, and (hopefully) optimize the predictive capabilities of the model."
   ]
  },
  {
   "cell_type": "code",
   "execution_count": 23,
   "metadata": {},
   "outputs": [],
   "source": [
    "from sklearn.model_selection import GridSearchCV"
   ]
  },
  {
   "cell_type": "markdown",
   "metadata": {},
   "source": [
    "NOTE: To find the most accurate model possible the following GridSearch was run several times before we settled on the parameters you see immediately below. Those initial tests are excluded here."
   ]
  },
  {
   "cell_type": "code",
   "execution_count": 24,
   "metadata": {},
   "outputs": [],
   "source": [
    "param_grid = {'C': [0.075 ,0.1, 0.125, 0.2], 'gamma': [2.5, 2, 1, 0.5]} "
   ]
  },
  {
   "cell_type": "code",
   "execution_count": 25,
   "metadata": {},
   "outputs": [
    {
     "data": {
      "text/plain": [
       "GridSearchCV(cv=None, error_score='raise',\n",
       "       estimator=SVC(C=1.0, cache_size=200, class_weight=None, coef0=0.0,\n",
       "  decision_function_shape='ovr', degree=3, gamma='auto', kernel='rbf',\n",
       "  max_iter=-1, probability=False, random_state=None, shrinking=True,\n",
       "  tol=0.001, verbose=False),\n",
       "       fit_params=None, iid=True, n_jobs=1,\n",
       "       param_grid={'C': [0.075, 0.1, 0.125, 0.2], 'gamma': [2.5, 2, 1, 0.5]},\n",
       "       pre_dispatch='2*n_jobs', refit=True, return_train_score='warn',\n",
       "       scoring=None, verbose=0)"
      ]
     },
     "execution_count": 25,
     "metadata": {},
     "output_type": "execute_result"
    }
   ],
   "source": [
    "grid = GridSearchCV(SVC(),param_grid,refit=True)\n",
    "grid.fit(X_train,y_train)"
   ]
  },
  {
   "cell_type": "markdown",
   "metadata": {},
   "source": [
    "You can inspect the best parameters found by GridSearchCV in the best_params_ attribute, and the best estimator in the best\\_estimator_ attribute:"
   ]
  },
  {
   "cell_type": "code",
   "execution_count": 26,
   "metadata": {},
   "outputs": [
    {
     "data": {
      "text/plain": [
       "{'C': 0.075, 'gamma': 2.5}"
      ]
     },
     "execution_count": 26,
     "metadata": {},
     "output_type": "execute_result"
    }
   ],
   "source": [
    "grid.best_params_"
   ]
  },
  {
   "cell_type": "code",
   "execution_count": 27,
   "metadata": {},
   "outputs": [
    {
     "data": {
      "text/plain": [
       "SVC(C=0.075, cache_size=200, class_weight=None, coef0=0.0,\n",
       "  decision_function_shape='ovr', degree=3, gamma=2.5, kernel='rbf',\n",
       "  max_iter=-1, probability=False, random_state=None, shrinking=True,\n",
       "  tol=0.001, verbose=False)"
      ]
     },
     "execution_count": 27,
     "metadata": {},
     "output_type": "execute_result"
    }
   ],
   "source": [
    "grid.best_estimator_"
   ]
  },
  {
   "cell_type": "markdown",
   "metadata": {},
   "source": [
    "Then re-run predictions can be re-run on this new grid object just like with the original model."
   ]
  },
  {
   "cell_type": "code",
   "execution_count": 28,
   "metadata": {},
   "outputs": [],
   "source": [
    "grid_predictions = grid.predict(X_test)"
   ]
  },
  {
   "cell_type": "code",
   "execution_count": 29,
   "metadata": {},
   "outputs": [
    {
     "name": "stdout",
     "output_type": "stream",
     "text": [
      "[[3389    0]\n",
      " [ 904    0]]\n"
     ]
    }
   ],
   "source": [
    "print(confusion_matrix(y_test,grid_predictions))"
   ]
  },
  {
   "cell_type": "code",
   "execution_count": 30,
   "metadata": {},
   "outputs": [
    {
     "name": "stdout",
     "output_type": "stream",
     "text": [
      "             precision    recall  f1-score   support\n",
      "\n",
      "          0       0.79      1.00      0.88      3389\n",
      "          1       0.00      0.00      0.00       904\n",
      "\n",
      "avg / total       0.62      0.79      0.70      4293\n",
      "\n"
     ]
    },
    {
     "name": "stderr",
     "output_type": "stream",
     "text": [
      "C:\\Users\\JoCho\\Anaconda3\\lib\\site-packages\\sklearn\\metrics\\classification.py:1135: UndefinedMetricWarning: Precision and F-score are ill-defined and being set to 0.0 in labels with no predicted samples.\n",
      "  'precision', 'predicted', average, warn_for)\n"
     ]
    }
   ],
   "source": [
    "print(classification_report(y_test,grid_predictions))"
   ]
  },
  {
   "cell_type": "markdown",
   "metadata": {},
   "source": [
    "## Conclusion\n",
    "Even after an extensive parameter selection process, the model still cannot identify specific groups of people who will or will not be cited by police. This model may be a failure, but the result is a good one. The above analysis provides evidence that Minneapolis police are unlikely to be making decisions about issuing citations based merely on race, gender. Of course, this basic analysis still leaves open valid questions requiring further study. Consider the following plots:"
   ]
  },
  {
   "cell_type": "code",
   "execution_count": 31,
   "metadata": {},
   "outputs": [
    {
     "data": {
      "text/plain": [
       "Text(0.5,1,'Race of Persons Searched by Police')"
      ]
     },
     "execution_count": 31,
     "metadata": {},
     "output_type": "execute_result"
    },
    {
     "data": {
      "image/png": "[encoded data removed]",
      "text/plain": [
       "<Figure size 792x360 with 1 Axes>"
      ]
     },
     "metadata": {},
     "output_type": "display_data"
    }
   ],
   "source": [
    "plt.figure(figsize=(11,5))\n",
    "stops2 = pd.read_csv(\"MplsStops.csv\")\n",
    "stops2 = stops2[stops2['personSearch'] == 'YES']\n",
    "sns.countplot(x='race', data=stops2).set_title('Race of Persons Searched by Police')"
   ]
  },
  {
   "cell_type": "code",
   "execution_count": 32,
   "metadata": {},
   "outputs": [
    {
     "data": {
      "text/plain": [
       "Text(0.5,1,'Race of Persons with Vehicle Searched by Police')"
      ]
     },
     "execution_count": 32,
     "metadata": {},
     "output_type": "execute_result"
    },
    {
     "data": {
      "image/png": "[encoded data removed]",
      "text/plain": [
       "<Figure size 792x360 with 1 Axes>"
      ]
     },
     "metadata": {},
     "output_type": "display_data"
    }
   ],
   "source": [
    "plt.figure(figsize=(11,5))\n",
    "stops3 = pd.read_csv(\"MplsStops.csv\")\n",
    "stops3 = stops3[stops3['vehicleSearch'] == 'YES']\n",
    "sns.countplot(x='race', data=stops3).set_title('Race of Persons with Vehicle Searched by Police')"
   ]
  },
  {
   "cell_type": "markdown",
   "metadata": {},
   "source": [
    "As is the case in cities across the U.S., African Americans are much more likely to be contacted - and more extensively contacted- by police than any other race. As of the 2010 census, African American's made up only 18.6% of Mineapolis' population (63.8% identified as White). Yet they have the most police interaction by a wide margin. Thus, while the decision to issue citations appears race-neutral, it appears Minneapolis provides another example of why nationwide scrutiny of police behavior continues."
   ]
  },
  {
   "cell_type": "code",
   "execution_count": null,
   "metadata": {},
   "outputs": [],
   "source": []
  }
 ],
 "metadata": {
  "kernelspec": {
   "display_name": "Python 3",
   "language": "python",
   "name": "python3"
  },
  "language_info": {
   "codemirror_mode": {
    "name": "ipython",
    "version": 3
   },
   "file_extension": ".py",
   "mimetype": "text/x-python",
   "name": "python",
   "nbconvert_exporter": "python",
   "pygments_lexer": "ipython3",
   "version": "3.6.4"
  }
 },
 "nbformat": 4,
 "nbformat_minor": 2
}
